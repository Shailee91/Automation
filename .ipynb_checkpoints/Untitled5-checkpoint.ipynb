{
 "cells": [
  {
   "cell_type": "code",
   "execution_count": null,
   "metadata": {},
   "outputs": [],
   "source": [
    "import fileinput\n",
    "import re\n",
    "import os\n",
    "import uuid\n",
    "from datetime import datetime\n",
    "import pandas as pd\n",
    "\n",
    "curr_dir=os.path.dirname(os.path.abspath(r'C:\\Users\\abc\\Downloads\\Installables for Python\\pandas_excel_sheet_test.py'))\n",
    "UserInput = pd.ExcelFile(curr_dir+r'\\UserInput.xlsx')\n",
    "\n",
    "XML_FILE_PATH = (curr_dir+r'\\Masking_rule_ref.xml')\n",
    "REF_XML2 = open(XML_FILE_PATH, 'r')\n",
    "REF_CONTENT2 = REF_XML.read()\n",
    "\n",
    "\n",
    "# Creating output XML file with the name '<Source Name>.xml'\n",
    "def gen_xml(fileename,content):\n",
    "    out_xml_file2 = open(fileename, 'w', newline='\\n')\n",
    "    out_xml_file2.writelines(content)\n",
    "    out_xml_file2.close()\n",
    "    \n",
    "    sheet = pd.read_excel(UserInput, sheet_name='SchemaSheet')\n",
    "    out_xml_name = curr_dir + 'metadata_value' + '.xml'\n",
    "    for line in fileinput.input(out_xml_name, inplace=True):\n",
    "        if re.findall(r'PORT', line)\n",
    "            for index, row in sheet.iterrows():\n",
    "                   if sheet['Is_Masking'] == 'Y'\n",
    "                        print(line.replace('VAR_SUBSTITUTION', row['Masking_Option'])\n",
    "                        .replace('VAR_FIELD_NAME', row['NAME'])\n",
    "                        .replace('VAR_FIELD_SCALE', str(row['SCALE']))\n",
    "                        .replace('VAR_FIELD_PRECISION', str(row['PRECISION']))\n",
    "                        .replace('VAR_TYPE', str(row['TYPE']))\n",
    "                        .replace('VAR_DIC_NAME', row['Dictionary_Filename'])\n",
    "                \n",
    "    \n",
    "    \n",
    "    \n",
    "\n",
    "sheet = pd.read_excel(UserInput, sheet_name='SchemaSheet')\n",
    "table_df = sheet['TABLENAME'].drop_duplicates()\n",
    "for table in table_df:\n",
    "    NEW_FILE_CONTENT = REF_CONTENT.replace('VAR_SOURCE_NAME', table).replace('VAR_CURRENT_DATE',datetime.now().strftime(\"%m/%d/%Y %H:%M:%S\")).replace('VAR_UUID', str(uuid.uuid1()))\n",
    "    out_xml_name = curr_dir + '\\wf_' + table + '.xml'\n",
    "    gen_xml(out_xml_name,NEW_FILE_CONTENT)\n",
    "    for line in fileinput.input(out_xml_name, inplace=True):\n",
    "        if re.findall(r'SOURCEFIELD|TARGETFIELD|TRANSFORMFIELD |CONNECTOR', line):\n",
    "            for index, row in sheet.iterrows():\n",
    "                if sheet.iloc[index,0]==table:\n",
    "                    print(line.replace('VAR_FIELD_NAME', row['NAME'])\n",
    "                          .replace('VAR_FIELD_SCALE', str(row['SCALE']))\n",
    "                          .replace('VAR_FIELD_PRECISION', str(row['PRECISION']))\n",
    "                          .replace('VAR_FIELD_KEYTYPE', row['KEYTYPE'])\n",
    "                          .replace('VAR_FIELD_DATATYPE', row['DATATYPE']), end='')\n",
    "        else:\n",
    "            print(line, end='')"
   ]
  }
 ],
 "metadata": {
  "kernelspec": {
   "display_name": "Python 3",
   "language": "python",
   "name": "python3"
  },
  "language_info": {
   "codemirror_mode": {
    "name": "ipython",
    "version": 3
   },
   "file_extension": ".py",
   "mimetype": "text/x-python",
   "name": "python",
   "nbconvert_exporter": "python",
   "pygments_lexer": "ipython3",
   "version": "3.7.6"
  }
 },
 "nbformat": 4,
 "nbformat_minor": 4
}
