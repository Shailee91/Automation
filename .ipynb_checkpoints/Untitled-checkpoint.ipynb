{
 "cells": [
  {
   "cell_type": "code",
   "execution_count": 2,
   "metadata": {},
   "outputs": [
    {
     "name": "stdout",
     "output_type": "stream",
     "text": [
      "C:\\Users\\abc\\Downloads\\Installables for Python\n"
     ]
    }
   ],
   "source": [
    "import fileinput\n",
    "import re\n",
    "import os\n",
    "import uuid\n",
    "from datetime import datetime\n",
    "import pandas as pd\n",
    "\n",
    "curr_dir=os.path.dirname(os.path.abspath(r'C:\\Users\\abc\\Downloads\\Installables for Python\\pandas_excel_sheet_test.py'))\n",
    "UserInput = pd.ExcelFile(curr_dir+r'\\UserInput.xlsx')\n",
    "\n",
    "print(curr_dir)\n",
    "\n",
    "# Reading reference XML file\n",
    "XML_FILE_PATH = (curr_dir+r'\\combined_ref.xml')\n",
    "REF_XML = open(XML_FILE_PATH, 'r')\n",
    "REF_CONTENT = REF_XML.read()\n",
    "\n",
    "# Creating output XML file with the name '<Source Name>.xml'\n",
    "def gen_xml(fileename,content):\n",
    "    out_xml_file = open(fileename, 'w', newline='\\n')\n",
    "    out_xml_file.writelines(content)\n",
    "    out_xml_file.close()\n",
    "\n",
    "sheet = pd.read_excel(UserInput, sheet_name='SchemaSheet')\n",
    "for table in sheet\n",
    "NEW_FILE_CONTENT = REF_CONTENT.replace('VAR_SOURCE_NAME', sheet.iloc[1,0]).replace('VAR_CURRENT_DATE',datetime.now().strftime(\"%m/%d/%Y %H:%M:%S\")).replace('VAR_UUID', str(uuid.uuid1()))\n",
    "out_xml_name = curr_dir + '\\wf_' + sheet + '.xml'\n",
    "gen_xml(out_xml_name,NEW_FILE_CONTENT)\n",
    "    for line in fileinput.input(out_xml_name, inplace=True):\n",
    "        if re.findall(r'SOURCEFIELD|TARGETFIELD|TRANSFORMFIELD |CONNECTOR', line):\n",
    "            for index, row in sheet.iterrows():\n",
    "                print(line.replace('VAR_FIELD_NAME', row['NAME'])\n",
    "                      .replace('VAR_FIELD_SCALE', str(row['SCALE']))\n",
    "                      .replace('VAR_FIELD_PRECISION', str(row['PRECISION']))\n",
    "                      .replace('VAR_FIELD_KEYTYPE', row['KEYTYPE'])\n",
    "                      .replace('VAR_FIELD_DATATYPE', row['DATATYPE']), end='')\n",
    "        else:\n",
    "            print(line, end='')"
   ]
  },
  {
   "cell_type": "code",
   "execution_count": null,
   "metadata": {},
   "outputs": [],
   "source": [
    "import os\n",
    "import pandas as pd\n",
    "\n",
    "curr_dir=os.path.dirname(os.path.abspath(r'C:\\Users\\abc\\Downloads\\Installables for Python\\pandas_excel_sheet_test.py'))\n",
    "UserInput = pd.ExcelFile(curr_dir+r'\\UserInput.xlsx')\n",
    "sheet = pd.read_excel(UserInput, sheet_name='SchemaSheet')\n",
    "\n",
    "print()\n"
   ]
  }
 ],
 "metadata": {
  "kernelspec": {
   "display_name": "Python 3",
   "language": "python",
   "name": "python3"
  },
  "language_info": {
   "codemirror_mode": {
    "name": "ipython",
    "version": 3
   },
   "file_extension": ".py",
   "mimetype": "text/x-python",
   "name": "python",
   "nbconvert_exporter": "python",
   "pygments_lexer": "ipython3",
   "version": "3.7.6"
  }
 },
 "nbformat": 4,
 "nbformat_minor": 4
}
